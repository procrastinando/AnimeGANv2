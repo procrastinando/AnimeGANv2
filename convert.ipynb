{
 "cells": [
  {
   "cell_type": "markdown",
   "metadata": {},
   "source": [
    "<a align=\"left\" href=\"https://procrastinator.me/animeganv2\" target=\"_blank\">\n",
    "<img width=\"1024\", src=\"https://procrastinator.me/wp-content/uploads/2021/12/AnimeGANv2.png\"></a>\n",
    "\n",
    "##### checkpoint/generator_Hayao_weight\n",
    "##### checkpoint/generator_Paprika_weight\n",
    "##### checkpoint/generator_Shinkai_weight"
   ]
  },
  {
   "cell_type": "markdown",
   "metadata": {},
   "source": [
    "# Requirements"
   ]
  },
  {
   "cell_type": "code",
   "execution_count": null,
   "metadata": {},
   "outputs": [],
   "source": [
    "# REPOSITORY\n",
    "#!git clone https://github.com/procrastinando/AnimeGANv2\n",
    "\n",
    "# PYTHON 3.6 OR 3.7\n",
    "!pip install tensorflow==1.15 # Install TF\n",
    "%tensorflow_version 1.x # To choose in google colab\n",
    "\n",
    "!pip install opencv-python\n",
    "!pip install tqdm\n",
    "!pip install numpy\n",
    "!pip install glob\n",
    "!pip install argparse\n",
    "!pip install onnxruntime # (If onnx file needs to be run)"
   ]
  },
  {
   "cell_type": "markdown",
   "metadata": {},
   "source": [
    "# Split video in frames"
   ]
  },
  {
   "cell_type": "code",
   "execution_count": 2,
   "metadata": {},
   "outputs": [],
   "source": [
    "import cv2\n",
    "import os\n",
    "\n",
    "video_name = 'lofi'\n",
    "capture = cv2.VideoCapture('input_data/' + str(video_name) + '.mp4')\n",
    "os.mkdir('input_data/' + str(video_name))\n",
    "frameNr = 0\n",
    "\n",
    "while (True):\n",
    "    success, frame = capture.read()\n",
    "    if success:\n",
    "        cv2.imwrite('input_data/' + str(video_name) + '/' + str(frameNr) + '.jpg', frame)\n",
    "    else:\n",
    "        break\n",
    "    frameNr = frameNr+1\n",
    "capture.release()"
   ]
  },
  {
   "cell_type": "markdown",
   "metadata": {},
   "source": [
    "# Convert images"
   ]
  },
  {
   "cell_type": "code",
   "execution_count": 3,
   "metadata": {},
   "outputs": [],
   "source": [
    "#%cd AnimeGANv2\n",
    "\n",
    "!python test.py --checkpoint_dir checkpoint/generator_Paprika_weight --test_dir input_data/lofi --save_dir lofi\n",
    "#!zip -r results/lofi.zip results/lofi # Download from google colab"
   ]
  },
  {
   "cell_type": "markdown",
   "metadata": {},
   "source": [
    "# Convert video"
   ]
  },
  {
   "cell_type": "code",
   "execution_count": null,
   "metadata": {},
   "outputs": [],
   "source": [
    "#%cd AnimeGANv2\n",
    "\n",
    "!python video2anime.py --checkpoint_dir checkpoint/generator_Paprika_weight --video input_data/lofi.mp4 --output results"
   ]
  }
 ],
 "metadata": {
  "interpreter": {
   "hash": "738e012f0ded67814929bd899dbce3d0ebce5f4b332e503c1e2963a941386b4f"
  },
  "kernelspec": {
   "display_name": "Python 3.7.9 64-bit",
   "language": "python",
   "name": "python3"
  },
  "language_info": {
   "codemirror_mode": {
    "name": "ipython",
    "version": 3
   },
   "file_extension": ".py",
   "mimetype": "text/x-python",
   "name": "python",
   "nbconvert_exporter": "python",
   "pygments_lexer": "ipython3",
   "version": "3.7.9"
  },
  "orig_nbformat": 4
 },
 "nbformat": 4,
 "nbformat_minor": 2
}
